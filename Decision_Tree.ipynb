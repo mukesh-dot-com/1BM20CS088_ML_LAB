{
  "nbformat": 4,
  "nbformat_minor": 0,
  "metadata": {
    "colab": {
      "provenance": []
    },
    "kernelspec": {
      "name": "python3",
      "display_name": "Python 3"
    },
    "language_info": {
      "name": "python"
    }
  },
  "cells": [
    {
      "cell_type": "code",
      "source": [
        "import pandas as pd\n",
        "import numpy as np\n",
        "import math"
      ],
      "metadata": {
        "id": "5Uge8S3WYcvV"
      },
      "execution_count": null,
      "outputs": []
    },
    {
      "cell_type": "code",
      "source": [
        "df = pd.read_csv(\"/content/play_tennis.csv\")\n",
        "features = [feat for feat in df]\n",
        "features.remove(\"PlayTennis\")\n",
        "features.remove(\"Day\")"
      ],
      "metadata": {
        "id": "GABt0lSHa6W9"
      },
      "execution_count": null,
      "outputs": []
    },
    {
      "cell_type": "code",
      "source": [
        "features"
      ],
      "metadata": {
        "id": "oyxS5h7aa7u0",
        "colab": {
          "base_uri": "https://localhost:8080/"
        },
        "outputId": "82972e1c-6d72-4fee-c2b0-b5fd9afd950c"
      },
      "execution_count": null,
      "outputs": [
        {
          "output_type": "execute_result",
          "data": {
            "text/plain": [
              "['Outlook', 'Temp', 'Humidity', 'Wind']"
            ]
          },
          "metadata": {},
          "execution_count": 3
        }
      ]
    },
    {
      "cell_type": "code",
      "source": [
        "class Node:\n",
        "    def __init__(self):\n",
        "        self.children = []\n",
        "        self.value = \"\"\n",
        "        self.isLeaf = False\n",
        "        self.pred = \"\""
      ],
      "metadata": {
        "id": "4oJsceufa82X"
      },
      "execution_count": null,
      "outputs": []
    },
    {
      "cell_type": "code",
      "source": [
        "def entropy(examples):\n",
        "    pos = 0.0\n",
        "    neg = 0.0\n",
        "    for _, row in examples.iterrows():\n",
        "        if row[\"PlayTennis\"] == \"Yes\":\n",
        "            pos += 1\n",
        "        else:\n",
        "            neg += 1\n",
        "    if pos == 0.0 or neg == 0.0:\n",
        "        return 0.0\n",
        "    else:\n",
        "        p = pos / (pos + neg)\n",
        "        n = neg / (pos + neg)\n",
        "        return -(p * math.log(p, 2) + n * math.log(n, 2))"
      ],
      "metadata": {
        "id": "YlehQ1V_a-J_"
      },
      "execution_count": null,
      "outputs": []
    },
    {
      "cell_type": "code",
      "source": [
        "def info_gain(examples, attr):\n",
        "    uniq = np.unique(examples[attr])\n",
        "    #print (\"\\n\",uniq)\n",
        "    gain = entropy(examples)\n",
        "    #print (\"\\n\",gain)\n",
        "    for u in uniq:\n",
        "        subdata = examples[examples[attr] == u]\n",
        "        #print (\"\\n\",subdata)\n",
        "        sub_e = entropy(subdata)\n",
        "        gain -= (float(len(subdata)) / float(len(examples))) * sub_e\n",
        "        #print (\"\\n\",gain)\n",
        "    return gain"
      ],
      "metadata": {
        "id": "uFDcAO053P2J"
      },
      "execution_count": null,
      "outputs": []
    },
    {
      "cell_type": "code",
      "source": [
        "def ID3(examples, attrs):\n",
        "    root = Node()\n",
        "\n",
        "    max_gain = 0\n",
        "    max_feat = \"\"\n",
        "    for feature in attrs:\n",
        "        #print (\"\\n\",examples)\n",
        "        gain = info_gain(examples, feature)\n",
        "        if gain > max_gain:\n",
        "            max_gain = gain\n",
        "            max_feat = feature\n",
        "    root.value = max_feat\n",
        "    #print (\"\\nMax feature attr\",max_feat)\n",
        "    uniq = np.unique(examples[max_feat])\n",
        "    #print (\"\\n\",uniq)\n",
        "    for u in uniq:\n",
        "        #print (\"\\n\",u)\n",
        "        subdata = examples[examples[max_feat] == u]\n",
        "        #print (\"\\n\",subdata)\n",
        "        if entropy(subdata) == 0.0:\n",
        "            newNode = Node()\n",
        "            newNode.isLeaf = True\n",
        "            newNode.value = u\n",
        "            newNode.pred = np.unique(subdata[\"PlayTennis\"])\n",
        "            root.children.append(newNode)\n",
        "        else:\n",
        "            dummyNode = Node()\n",
        "            dummyNode.value = u\n",
        "            new_attrs = attrs.copy()\n",
        "            new_attrs.remove(max_feat)\n",
        "            child = ID3(subdata, new_attrs)\n",
        "            dummyNode.children.append(child)\n",
        "            root.children.append(dummyNode)\n",
        "    return root"
      ],
      "metadata": {
        "id": "Hq959NoN3SM5"
      },
      "execution_count": null,
      "outputs": []
    },
    {
      "cell_type": "code",
      "source": [
        "def printTree(root: Node, depth=0):\n",
        "    for i in range(depth):\n",
        "        print(\"\\t\", end=\"\")\n",
        "    print(root.value, end=\"\")\n",
        "    if root.isLeaf:\n",
        "        print(\" -> \", root.pred)\n",
        "    print()\n",
        "    for child in root.children:\n",
        "        printTree(child, depth + 1)"
      ],
      "metadata": {
        "id": "RyZYOMUW3TBq"
      },
      "execution_count": null,
      "outputs": []
    },
    {
      "cell_type": "code",
      "source": [
        "root = ID3(df, features)\n",
        "printTree(root)"
      ],
      "metadata": {
        "colab": {
          "base_uri": "https://localhost:8080/"
        },
        "id": "T_mO3Yzh3UNt",
        "outputId": "67fc11dc-2f33-4133-eeb0-0ecc5b20309f"
      },
      "execution_count": null,
      "outputs": [
        {
          "output_type": "stream",
          "name": "stdout",
          "text": [
            "Outlook\n",
            "\tOvercast ->  ['Yes']\n",
            "\n",
            "\tRain\n",
            "\t\tWind\n",
            "\t\t\tStrong ->  ['No']\n",
            "\n",
            "\t\t\tWeak ->  ['Yes']\n",
            "\n",
            "\tSunny\n",
            "\t\tHumidity\n",
            "\t\t\tHigh ->  ['No']\n",
            "\n",
            "\t\t\tNormal ->  ['Yes']\n",
            "\n"
          ]
        }
      ]
    }
  ]
}